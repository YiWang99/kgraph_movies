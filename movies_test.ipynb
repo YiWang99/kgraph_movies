{
 "cells": [
  {
   "cell_type": "code",
   "execution_count": 1,
   "metadata": {},
   "outputs": [],
   "source": [
    "import numpy as np\n",
    "from movies import *"
   ]
  },
  {
   "cell_type": "code",
   "execution_count": 2,
   "metadata": {},
   "outputs": [
    {
     "name": "stdout",
     "output_type": "stream",
     "text": [
      "start loading\n",
      "graph loaded\n",
      "loading execution time: 55.29160809516907s\n",
      "RDF loaded.\n",
      "load 3579610 triples.\n"
     ]
    }
   ],
   "source": [
    "g = load_kg(\"linkedmdb.nt\")"
   ]
  },
  {
   "cell_type": "markdown",
   "metadata": {},
   "source": [
    "movie = \"Harry Potter and the Prisoner of Azkaban\"\n",
    "{'actor_name': ['Alan Rickman',\n",
    "  'Daniel Radcliffe',\n",
    "  'David Thewlis',\n",
    "  'Emma Thompson',\n",
    "  'Emma Watson',\n",
    "  'Gary Oldman',\n",
    "  'Maggie Smith',\n",
    "  'Michael Gambon',\n",
    "  'Robbie Coltrane',\n",
    "  'Rupert Grint',\n",
    "  'Timothy Spall',\n",
    "  'Tom Felton'],\n",
    " 'genre_name': [],\n",
    " 'runtime': ['142'],\n",
    " 'initial_release_date': ['2004-06-04'],\n",
    " 'director_name': ['Alfonso CuarÃ³n'],\n",
    " 'producer_name': ['Chris Columbus', 'David Heyman', 'Mark Radcliffe'],\n",
    " 'languageCode': ['en'],\n",
    " 'writer_name': ['J. K. Rowling', 'Steve Kloves'],\n",
    " 'editor_name': ['Steven Weisberg'],\n",
    " 'music_contributor_name': ['John Williams'],\n",
    " 'country_name': []}"
   ]
  },
  {
   "cell_type": "code",
   "execution_count": 6,
   "metadata": {},
   "outputs": [
    {
     "name": "stdout",
     "output_type": "stream",
     "text": [
      "Movie filters:\n",
      "actor: ['Daniel Radcliffe' 'Emma Watson']\n",
      "genre: ['']\n",
      "runtime: ['']\n",
      "initial_release_date: ['']\n",
      "director: ['']\n",
      "producer: ['']\n",
      "language: ['']\n",
      "writer: ['']\n",
      "editor: ['']\n",
      "music_contributor: ['']\n",
      "country: ['']\n",
      "No value for key: genre\n",
      "No value for key: runtime\n",
      "No value for key: initial_release_date\n",
      "No value for key: director\n",
      "No value for key: producer\n",
      "No value for key: language\n",
      "No value for key: writer\n",
      "No value for key: editor\n",
      "No value for key: music_contributor\n",
      "No value for key: country\n",
      "\n",
      "        SELECT DISTINCT ?movie_name\n",
      "            WHERE {\n",
      "        ?film a lmdb:film ;\n",
      "            dc:title ?movie_name ;\n",
      "    lmdb:actor [lmdb:actor_name \"Daniel Radcliffe\"] ;lmdb:actor [lmdb:actor_name \"Emma Watson\"] ;}LIMIT 100\n",
      "        \n",
      "3579610\n",
      "query execution time: 0.00559687614440918s\n",
      "query results: <rdflib.plugins.sparql.processor.SPARQLResult object at 0x108a07a90>\n",
      "transfer results to front end ------\n",
      "{'movie_name': [\"Harry Potter and the Philosopher's Stone\", 'Harry Potter and the Chamber of Secrets', 'Harry Potter and the Prisoner of Azkaban', 'Harry Potter and the Goblet of Fire', 'Harry Potter and the Order of the Phoenix', 'Harry Potter and the Half-Blood Prince', 'Harry Potter', 'Harry Potter and the Deathly Hallows']}\n"
     ]
    },
    {
     "data": {
      "text/plain": [
       "{'movie_name': [\"Harry Potter and the Philosopher's Stone\",\n",
       "  'Harry Potter and the Chamber of Secrets',\n",
       "  'Harry Potter and the Prisoner of Azkaban',\n",
       "  'Harry Potter and the Goblet of Fire',\n",
       "  'Harry Potter and the Order of the Phoenix',\n",
       "  'Harry Potter and the Half-Blood Prince',\n",
       "  'Harry Potter',\n",
       "  'Harry Potter and the Deathly Hallows']}"
      ]
     },
     "execution_count": 6,
     "metadata": {},
     "output_type": "execute_result"
    }
   ],
   "source": [
    "full_name_only = True\n",
    "if full_name_only:\n",
    "    actor = np.array([\"actor\", \"Daniel Radcliffe\", \"Emma Watson\"])\n",
    "else:\n",
    "    actor = np.array([\"actor\", \"Daniel\", \"Emma\"])\n",
    "front_end_list =[actor, genre, runtime, initial_release_date, director, producer, language, writer, editor, music_contributor, country]\n",
    "activate_filter(front_end_filter_list=front_end_list, g=g, limit=100, full_name_only=full_name_only)\n"
   ]
  },
  {
   "cell_type": "code",
   "execution_count": 7,
   "metadata": {},
   "outputs": [
    {
     "name": "stdout",
     "output_type": "stream",
     "text": [
      "Movie filters:\n",
      "actor: ['Daniel' 'Emma']\n",
      "genre: ['']\n",
      "runtime: ['']\n",
      "initial_release_date: ['']\n",
      "director: ['']\n",
      "producer: ['']\n",
      "language: ['']\n",
      "writer: ['']\n",
      "editor: ['']\n",
      "music_contributor: ['']\n",
      "country: ['']\n",
      "No value for key: genre\n",
      "No value for key: runtime\n",
      "No value for key: initial_release_date\n",
      "No value for key: director\n",
      "No value for key: producer\n",
      "No value for key: language\n",
      "No value for key: writer\n",
      "No value for key: editor\n",
      "No value for key: music_contributor\n",
      "No value for key: country\n",
      "\n",
      "        SELECT DISTINCT ?movie_name\n",
      "            WHERE {[a lmdb:film; dc:title ?movie_name; lmdb:actor ?actor0;  lmdb:actor ?actor1; ] .?actor0 lmdb:actor_name  ?actor_name0 .?actor1 lmdb:actor_name  ?actor_name1 .FILTER (STRSTARTS(?actor_name0, \"Daniel\")) .FILTER (STRSTARTS(?actor_name1, \"Emma\")) .}LIMIT 100\n",
      "        \n",
      "3579610\n",
      "query execution time: 0.0100250244140625s\n",
      "query results: <rdflib.plugins.sparql.processor.SPARQLResult object at 0x38f97c2e0>\n",
      "transfer results to front end ------\n",
      "{'movie_name': [\"Harry Potter and the Philosopher's Stone\", 'Harry Potter and the Chamber of Secrets', 'Harry Potter and the Prisoner of Azkaban', 'Harry Potter and the Goblet of Fire', 'Harry Potter and the Order of the Phoenix', 'Harry Potter and the Half-Blood Prince', 'Un cÅ\\x93ur en hiver', 'Harry Potter', 'Harry Potter and the Deathly Hallows', '8 femmes', 'In the Name of the Father', 'Manon des Sources']}\n"
     ]
    },
    {
     "data": {
      "text/plain": [
       "{'movie_name': [\"Harry Potter and the Philosopher's Stone\",\n",
       "  'Harry Potter and the Chamber of Secrets',\n",
       "  'Harry Potter and the Prisoner of Azkaban',\n",
       "  'Harry Potter and the Goblet of Fire',\n",
       "  'Harry Potter and the Order of the Phoenix',\n",
       "  'Harry Potter and the Half-Blood Prince',\n",
       "  'Un cÅ\\x93ur en hiver',\n",
       "  'Harry Potter',\n",
       "  'Harry Potter and the Deathly Hallows',\n",
       "  '8 femmes',\n",
       "  'In the Name of the Father',\n",
       "  'Manon des Sources']}"
      ]
     },
     "execution_count": 7,
     "metadata": {},
     "output_type": "execute_result"
    }
   ],
   "source": [
    "full_name_only = False\n",
    "if full_name_only:\n",
    "    actor = np.array([\"actor\", \"Daniel Radcliffe\", \"Emma Watson\"])\n",
    "else:\n",
    "    actor = np.array([\"actor\", \"Daniel\", \"Emma\"])\n",
    "front_end_list =[actor, genre, runtime, initial_release_date, director, producer, language, writer, editor, music_contributor, country]\n",
    "activate_filter(front_end_filter_list=front_end_list, g=g, limit=100, full_name_only=full_name_only)"
   ]
  },
  {
   "cell_type": "code",
   "execution_count": 8,
   "metadata": {},
   "outputs": [
    {
     "name": "stdout",
     "output_type": "stream",
     "text": [
      "['\\n    SELECT DISTINCT ?actor_name \\n    WHERE{\\n        ?movie a lmdb:film ;\\n            dc:title ?movie_name .\\n        OPTIONAL{\\n            ?movie lmdb:actor ?actor .\\n            ?actor lmdb:actor_name ?actor_name .\\n        }\\n        FILTER(?movie_name = \"Harry Potter and the Prisoner of Azkaban\")\\n    }\\n    ', '\\n    SELECT DISTINCT ?genre_name \\n    WHERE{\\n        ?movie a lmdb:film ;\\n            dc:title ?movie_name .\\n        OPTIONAL{\\n            ?movie lmdb:genre ?genre .\\n            ?genre lmdb:film_genre_name ?genre_name .\\n        }\\n        FILTER(?movie_name = \"Harry Potter and the Prisoner of Azkaban\")\\n    }\\n    ', '\\n    SELECT DISTINCT ?runtime\\n    WHERE{\\n        ?movie a lmdb:film ;\\n            dc:title ?movie_name .\\n        ?movie lmdb:runtime ?runtime .\\n        FILTER(?movie_name = \"Harry Potter and the Prisoner of Azkaban\")\\n    }\\n    ', '\\n    SELECT DISTINCT ?initial_release_date \\n    WHERE{\\n        ?movie a lmdb:film ;\\n            dc:title ?movie_name .\\n        \\n        ?movie lmdb:initial_release_date ?initial_release_date .\\n        FILTER(?movie_name = \"Harry Potter and the Prisoner of Azkaban\")\\n    }\\n    ', '\\n    SELECT DISTINCT ?director_name \\n    WHERE{\\n        ?movie a lmdb:film ;\\n            dc:title ?movie_name .\\n        OPTIONAL{\\n            ?movie lmdb:director ?director .\\n            ?director lmdb:director_name ?director_name .\\n        }\\n        FILTER(?movie_name = \"Harry Potter and the Prisoner of Azkaban\")\\n    }\\n    ', '\\n    SELECT DISTINCT ?producer_name\\n    WHERE{\\n        ?movie a lmdb:film ;\\n            dc:title ?movie_name .\\n        OPTIONAL{\\n            ?movie lmdb:producer ?producer .\\n            ?producer lmdb:producer_name ?producer_name .\\n        }\\n        FILTER(?movie_name = \"Harry Potter and the Prisoner of Azkaban\")\\n    }\\n    ', '\\n    SELECT DISTINCT ?languageCode\\n    WHERE{\\n        ?movie a lmdb:film ;\\n            dc:title ?movie_name .\\n        ?movie lmdb:language ?language .\\n        BIND(STRAFTER(str(?language), \"http://www.lingvoj.org/lingvo/\") AS ?languageCode)\\n        FILTER(?movie_name = \"Harry Potter and the Prisoner of Azkaban\")\\n    }\\n    ', '\\n    SELECT DISTINCT ?writer_name \\n    WHERE{\\n        ?movie a lmdb:film ;\\n            dc:title ?movie_name .\\n        OPTIONAL{\\n            ?movie lmdb:writer ?writer .\\n            ?writer lmdb:writer_name ?writer_name .\\n        }\\n        FILTER(?movie_name = \"Harry Potter and the Prisoner of Azkaban\")\\n    }\\n    ', '\\n    SELECT DISTINCT ?editor_name\\n    WHERE{\\n        ?movie a lmdb:film ;\\n            dc:title ?movie_name .\\n        OPTIONAL{\\n            ?movie lmdb:editor ?editor .\\n            ?editor lmdb:editor_name ?editor_name .\\n        }\\n        FILTER(?movie_name = \"Harry Potter and the Prisoner of Azkaban\")\\n    }\\n    ', '\\n    SELECT DISTINCT ?music_contributor_name\\n    WHERE{\\n        ?movie a lmdb:film ;\\n            dc:title ?movie_name .\\n        OPTIONAL{\\n            ?movie lmdb:music_contributor ?music_contributor .\\n            ?music_contributor lmdb:music_contributor_name ?music_contributor_name .\\n        }\\n        FILTER(?movie_name = \"Harry Potter and the Prisoner of Azkaban\")\\n    }\\n    ', '\\n    SELECT DISTINCT ?country_name\\n    WHERE{\\n        ?movie a lmdb:film ;\\n            dc:title ?movie_name .\\n        OPTIONAL{\\n            ?movie lmdb:country ?country .\\n            ?country lmdb:country_name ?country_name .\\n        }\\n        FILTER(?movie_name = \"Harry Potter and the Prisoner of Azkaban\")\\n    }\\n    ']\n",
      "query execution time: 0.008937835693359375s\n",
      "query results: <rdflib.plugins.sparql.processor.SPARQLResult object at 0x38f97d930>\n",
      "transfer results to front end ------\n",
      "query execution time: 0.0041179656982421875s\n",
      "query results: <rdflib.plugins.sparql.processor.SPARQLResult object at 0x38e5ba740>\n",
      "transfer results to front end ------\n",
      "query execution time: 0.0028438568115234375s\n",
      "query results: <rdflib.plugins.sparql.processor.SPARQLResult object at 0x38f952e30>\n",
      "transfer results to front end ------\n",
      "query execution time: 0.0027000904083251953s\n",
      "query results: <rdflib.plugins.sparql.processor.SPARQLResult object at 0x38f97e710>\n",
      "transfer results to front end ------\n",
      "query execution time: 0.0035600662231445312s\n",
      "query results: <rdflib.plugins.sparql.processor.SPARQLResult object at 0x38f97e830>\n",
      "transfer results to front end ------\n",
      "query execution time: 0.0036721229553222656s\n",
      "query results: <rdflib.plugins.sparql.processor.SPARQLResult object at 0x38f97dc30>\n",
      "transfer results to front end ------\n",
      "query execution time: 0.005285978317260742s\n",
      "query results: <rdflib.plugins.sparql.processor.SPARQLResult object at 0x38f97c7f0>\n",
      "transfer results to front end ------\n",
      "query execution time: 0.0033249855041503906s\n",
      "query results: <rdflib.plugins.sparql.processor.SPARQLResult object at 0x38f97d240>\n",
      "transfer results to front end ------\n",
      "query execution time: 0.0034132003784179688s\n",
      "query results: <rdflib.plugins.sparql.processor.SPARQLResult object at 0x38f953430>\n",
      "transfer results to front end ------\n",
      "query execution time: 0.003512144088745117s\n",
      "query results: <rdflib.plugins.sparql.processor.SPARQLResult object at 0x38f9a0430>\n",
      "transfer results to front end ------\n",
      "query execution time: 0.0039501190185546875s\n",
      "query results: <rdflib.plugins.sparql.processor.SPARQLResult object at 0x38f953e50>\n",
      "transfer results to front end ------\n",
      "whole query execution time: 24.989574909210205s\n",
      "{'actor_name': ['Alan Rickman', 'Daniel Radcliffe', 'David Thewlis', 'Emma Thompson', 'Emma Watson', 'Gary Oldman', 'Maggie Smith', 'Michael Gambon', 'Robbie Coltrane', 'Rupert Grint', 'Timothy Spall', 'Tom Felton'], 'genre_name': [], 'runtime': ['142'], 'initial_release_date': ['2004-06-04'], 'director_name': ['Alfonso CuarÃ³n'], 'producer_name': ['Chris Columbus', 'David Heyman', 'Mark Radcliffe'], 'languageCode': ['en'], 'writer_name': ['J. K. Rowling', 'Steve Kloves'], 'editor_name': ['Steven Weisberg'], 'music_contributor_name': ['John Williams'], 'country_name': []}\n"
     ]
    },
    {
     "data": {
      "text/plain": [
       "{'actor_name': ['Alan Rickman',\n",
       "  'Daniel Radcliffe',\n",
       "  'David Thewlis',\n",
       "  'Emma Thompson',\n",
       "  'Emma Watson',\n",
       "  'Gary Oldman',\n",
       "  'Maggie Smith',\n",
       "  'Michael Gambon',\n",
       "  'Robbie Coltrane',\n",
       "  'Rupert Grint',\n",
       "  'Timothy Spall',\n",
       "  'Tom Felton'],\n",
       " 'genre_name': [],\n",
       " 'runtime': ['142'],\n",
       " 'initial_release_date': ['2004-06-04'],\n",
       " 'director_name': ['Alfonso CuarÃ³n'],\n",
       " 'producer_name': ['Chris Columbus', 'David Heyman', 'Mark Radcliffe'],\n",
       " 'languageCode': ['en'],\n",
       " 'writer_name': ['J. K. Rowling', 'Steve Kloves'],\n",
       " 'editor_name': ['Steven Weisberg'],\n",
       " 'music_contributor_name': ['John Williams'],\n",
       " 'country_name': []}"
      ]
     },
     "execution_count": 8,
     "metadata": {},
     "output_type": "execute_result"
    }
   ],
   "source": [
    "activate_info(\"Harry Potter and the Prisoner of Azkaban\", g)"
   ]
  },
  {
   "cell_type": "code",
   "execution_count": 9,
   "metadata": {},
   "outputs": [
    {
     "name": "stdout",
     "output_type": "stream",
     "text": [
      "query execution time: 0.017120838165283203s\n",
      "query results: <rdflib.plugins.sparql.processor.SPARQLResult object at 0x38f97e020>\n",
      "results <rdflib.plugins.sparql.processor.SPARQLResult object at 0x38f97e020>\n",
      "results len 96\n",
      "transfer results to front end ------\n",
      "No results found. 'NoneType' object has no attribute 'value'\n"
     ]
    },
    {
     "data": {
      "text/plain": [
       "{'movie_name': ['Harry Potter and the Prisoner of Azkaban'],\n",
       " 'actor_name': ['Alan Rickman'],\n",
       " 'genre_name': [],\n",
       " 'runtime': [],\n",
       " 'initial_release_date': [],\n",
       " 'director_name': [],\n",
       " 'producer_name': [],\n",
       " 'writer_name': [],\n",
       " 'editor_name': [],\n",
       " 'music_contributor_name': [],\n",
       " 'country_name': []}"
      ]
     },
     "execution_count": 9,
     "metadata": {},
     "output_type": "execute_result"
    }
   ],
   "source": [
    "q = \"\"\"\n",
    "    SELECT ?movie_name ?actor_name ?genre_name ?runtime ?initial_release_date ?director_name ?producer_name ?writer_name ?editor_name ?music_contributor_name ?country_name\n",
    "    WHERE{\n",
    "        ?movie a lmdb:film ;\n",
    "            dc:title ?movie_name .\n",
    "        OPTIONAL{\n",
    "            ?movie lmdb:actor ?actor .\n",
    "            ?actor lmdb:actor_name ?actor_name .\n",
    "        }\n",
    "        OPTIONAL{\n",
    "            ?movie lmdb:genre ?genre .\n",
    "            ?genre lmdb:film_genre_name ?genre_name .\n",
    "        }\n",
    "        ?movie lmdb:runtime ?runtime .\n",
    "        ?movie lmdb:initial_release_date ?initial_release_date .\n",
    "        OPTIONAL{\n",
    "            ?movie lmdb:director ?director .\n",
    "            ?director lmdb:director_name ?director_name .\n",
    "        }\n",
    "        OPTIONAL{\n",
    "            ?movie lmdb:producer ?producer .\n",
    "            ?producer lmdb:producer_name ?producer_name .\n",
    "        }\n",
    "        OPTIONAL{\n",
    "            ?movie lmdb:writer ?writer .\n",
    "            ?writer lmdb:writer_name ?writer_name .\n",
    "        }\n",
    "        OPTIONAL{\n",
    "            ?movie lmdb:editor ?editor .\n",
    "            ?editor lmdb:editor_name ?editor_name .\n",
    "        }\n",
    "        OPTIONAL{\n",
    "            ?movie lmdb:music_contributor ?music_contributor .\n",
    "            ?music_contributor lmdb:music_contributor_name ?music_contributor_name .\n",
    "        }\n",
    "        OPTIONAL{\n",
    "            ?movie lmdb:country ?country .\n",
    "            ?country lmdb:country_name ?country_name .\n",
    "        }\n",
    "        FILTER(?movie_name = \"Harry Potter and the Prisoner of Azkaban\")\n",
    "    }\n",
    "    \"\"\"\n",
    "results = execute_query(g, q)\n",
    "print(\"results\", results)\n",
    "print(\"results len\", len(results))\n",
    "transfer_results_to_front_end(results, result_types=[\"movie_name\", \"actor_name\", \"genre_name\", \"runtime\", \n",
    "                                                        \"initial_release_date\", \"director_name\", \"producer_name\", \n",
    "                                                        \"writer_name\", \"editor_name\", \"music_contributor_name\", \"country_name\"])\n"
   ]
  }
 ],
 "metadata": {
  "kernelspec": {
   "display_name": "dm",
   "language": "python",
   "name": "python3"
  },
  "language_info": {
   "codemirror_mode": {
    "name": "ipython",
    "version": 3
   },
   "file_extension": ".py",
   "mimetype": "text/x-python",
   "name": "python",
   "nbconvert_exporter": "python",
   "pygments_lexer": "ipython3",
   "version": "3.10.13"
  }
 },
 "nbformat": 4,
 "nbformat_minor": 2
}
